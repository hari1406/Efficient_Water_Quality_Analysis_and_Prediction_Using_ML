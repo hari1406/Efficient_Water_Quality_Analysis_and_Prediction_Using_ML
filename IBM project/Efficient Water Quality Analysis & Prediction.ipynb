{
 "cells": [
  {
   "cell_type": "markdown",
   "id": "e1283783",
   "metadata": {},
   "source": [
    "# Importing the libraries"
   ]
  },
  {
   "cell_type": "code",
   "execution_count": 1,
   "id": "6de0dbad",
   "metadata": {},
   "outputs": [],
   "source": [
    "import numpy as np\n",
    "import pandas as pd\n",
    "import seaborn as sns\n",
    "import matplotlib.pyplot as plt\n",
    "import warnings"
   ]
  },
  {
   "cell_type": "code",
   "execution_count": 2,
   "id": "c30a0b43",
   "metadata": {},
   "outputs": [],
   "source": [
    "warnings.filterwarnings(action='ignore')\n",
    "warnings.warn('this is a warning!')\n"
   ]
  },
  {
   "cell_type": "markdown",
   "id": "a41b523b",
   "metadata": {},
   "source": [
    "# Reading Dataset"
   ]
  },
  {
   "cell_type": "code",
   "execution_count": 3,
   "id": "850782ea",
   "metadata": {},
   "outputs": [],
   "source": [
    "data = pd.read_csv('water_dataX.csv',encoding='ISO-8859-1',low_memory=False)"
   ]
  },
  {
   "cell_type": "markdown",
   "id": "abcdace7",
   "metadata": {},
   "source": [
    "# Analyse the data"
   ]
  },
  {
   "cell_type": "code",
   "execution_count": 4,
   "id": "c7e2f4ed",
   "metadata": {},
   "outputs": [
    {
     "data": {
      "text/html": [
       "<div>\n",
       "<style scoped>\n",
       "    .dataframe tbody tr th:only-of-type {\n",
       "        vertical-align: middle;\n",
       "    }\n",
       "\n",
       "    .dataframe tbody tr th {\n",
       "        vertical-align: top;\n",
       "    }\n",
       "\n",
       "    .dataframe thead th {\n",
       "        text-align: right;\n",
       "    }\n",
       "</style>\n",
       "<table border=\"1\" class=\"dataframe\">\n",
       "  <thead>\n",
       "    <tr style=\"text-align: right;\">\n",
       "      <th></th>\n",
       "      <th>STATION CODE</th>\n",
       "      <th>LOCATIONS</th>\n",
       "      <th>STATE</th>\n",
       "      <th>Temp</th>\n",
       "      <th>D.O. (mg/l)</th>\n",
       "      <th>PH</th>\n",
       "      <th>CONDUCTIVITY (µmhos/cm)</th>\n",
       "      <th>B.O.D. (mg/l)</th>\n",
       "      <th>NITRATENAN N+ NITRITENANN (mg/l)</th>\n",
       "      <th>FECAL COLIFORM (MPN/100ml)</th>\n",
       "      <th>TOTAL COLIFORM (MPN/100ml)Mean</th>\n",
       "      <th>year</th>\n",
       "    </tr>\n",
       "  </thead>\n",
       "  <tbody>\n",
       "    <tr>\n",
       "      <th>0</th>\n",
       "      <td>1393</td>\n",
       "      <td>DAMANGANGA AT D/S OF MADHUBAN, DAMAN</td>\n",
       "      <td>DAMAN &amp; DIU</td>\n",
       "      <td>30.6</td>\n",
       "      <td>6.7</td>\n",
       "      <td>7.5</td>\n",
       "      <td>203</td>\n",
       "      <td>NAN</td>\n",
       "      <td>0.1</td>\n",
       "      <td>11</td>\n",
       "      <td>27</td>\n",
       "      <td>2014</td>\n",
       "    </tr>\n",
       "    <tr>\n",
       "      <th>1</th>\n",
       "      <td>1399</td>\n",
       "      <td>ZUARI AT D/S OF PT. WHERE KUMBARJRIA CANAL JOI...</td>\n",
       "      <td>GOA</td>\n",
       "      <td>29.8</td>\n",
       "      <td>5.7</td>\n",
       "      <td>7.2</td>\n",
       "      <td>189</td>\n",
       "      <td>2</td>\n",
       "      <td>0.2</td>\n",
       "      <td>4953</td>\n",
       "      <td>8391</td>\n",
       "      <td>2014</td>\n",
       "    </tr>\n",
       "    <tr>\n",
       "      <th>2</th>\n",
       "      <td>1475</td>\n",
       "      <td>ZUARI AT PANCHAWADI</td>\n",
       "      <td>GOA</td>\n",
       "      <td>29.5</td>\n",
       "      <td>6.3</td>\n",
       "      <td>6.9</td>\n",
       "      <td>179</td>\n",
       "      <td>1.7</td>\n",
       "      <td>0.1</td>\n",
       "      <td>3243</td>\n",
       "      <td>5330</td>\n",
       "      <td>2014</td>\n",
       "    </tr>\n",
       "    <tr>\n",
       "      <th>3</th>\n",
       "      <td>3181</td>\n",
       "      <td>RIVER ZUARI AT BORIM BRIDGE</td>\n",
       "      <td>GOA</td>\n",
       "      <td>29.7</td>\n",
       "      <td>5.8</td>\n",
       "      <td>6.9</td>\n",
       "      <td>64</td>\n",
       "      <td>3.8</td>\n",
       "      <td>0.5</td>\n",
       "      <td>5382</td>\n",
       "      <td>8443</td>\n",
       "      <td>2014</td>\n",
       "    </tr>\n",
       "    <tr>\n",
       "      <th>4</th>\n",
       "      <td>3182</td>\n",
       "      <td>RIVER ZUARI AT MARCAIM JETTY</td>\n",
       "      <td>GOA</td>\n",
       "      <td>29.5</td>\n",
       "      <td>5.8</td>\n",
       "      <td>7.3</td>\n",
       "      <td>83</td>\n",
       "      <td>1.9</td>\n",
       "      <td>0.4</td>\n",
       "      <td>3428</td>\n",
       "      <td>5500</td>\n",
       "      <td>2014</td>\n",
       "    </tr>\n",
       "  </tbody>\n",
       "</table>\n",
       "</div>"
      ],
      "text/plain": [
       "  STATION CODE                                          LOCATIONS  \\\n",
       "0         1393               DAMANGANGA AT D/S OF MADHUBAN, DAMAN   \n",
       "1         1399  ZUARI AT D/S OF PT. WHERE KUMBARJRIA CANAL JOI...   \n",
       "2         1475                                ZUARI AT PANCHAWADI   \n",
       "3         3181                        RIVER ZUARI AT BORIM BRIDGE   \n",
       "4         3182                       RIVER ZUARI AT MARCAIM JETTY   \n",
       "\n",
       "         STATE  Temp D.O. (mg/l)   PH CONDUCTIVITY (µmhos/cm) B.O.D. (mg/l)  \\\n",
       "0  DAMAN & DIU  30.6         6.7  7.5                     203           NAN   \n",
       "1          GOA  29.8         5.7  7.2                     189             2   \n",
       "2          GOA  29.5         6.3  6.9                     179           1.7   \n",
       "3          GOA  29.7         5.8  6.9                      64           3.8   \n",
       "4          GOA  29.5         5.8  7.3                      83           1.9   \n",
       "\n",
       "  NITRATENAN N+ NITRITENANN (mg/l) FECAL COLIFORM (MPN/100ml)  \\\n",
       "0                              0.1                         11   \n",
       "1                              0.2                       4953   \n",
       "2                              0.1                       3243   \n",
       "3                              0.5                       5382   \n",
       "4                              0.4                       3428   \n",
       "\n",
       "  TOTAL COLIFORM (MPN/100ml)Mean  year  \n",
       "0                             27  2014  \n",
       "1                           8391  2014  \n",
       "2                           5330  2014  \n",
       "3                           8443  2014  \n",
       "4                           5500  2014  "
      ]
     },
     "execution_count": 4,
     "metadata": {},
     "output_type": "execute_result"
    }
   ],
   "source": [
    "data.head()"
   ]
  },
  {
   "cell_type": "code",
   "execution_count": 5,
   "id": "dbe55f14",
   "metadata": {},
   "outputs": [
    {
     "data": {
      "text/html": [
       "<div>\n",
       "<style scoped>\n",
       "    .dataframe tbody tr th:only-of-type {\n",
       "        vertical-align: middle;\n",
       "    }\n",
       "\n",
       "    .dataframe tbody tr th {\n",
       "        vertical-align: top;\n",
       "    }\n",
       "\n",
       "    .dataframe thead th {\n",
       "        text-align: right;\n",
       "    }\n",
       "</style>\n",
       "<table border=\"1\" class=\"dataframe\">\n",
       "  <thead>\n",
       "    <tr style=\"text-align: right;\">\n",
       "      <th></th>\n",
       "      <th>year</th>\n",
       "    </tr>\n",
       "  </thead>\n",
       "  <tbody>\n",
       "    <tr>\n",
       "      <th>count</th>\n",
       "      <td>1991.000000</td>\n",
       "    </tr>\n",
       "    <tr>\n",
       "      <th>mean</th>\n",
       "      <td>2010.038172</td>\n",
       "    </tr>\n",
       "    <tr>\n",
       "      <th>std</th>\n",
       "      <td>3.057333</td>\n",
       "    </tr>\n",
       "    <tr>\n",
       "      <th>min</th>\n",
       "      <td>2003.000000</td>\n",
       "    </tr>\n",
       "    <tr>\n",
       "      <th>25%</th>\n",
       "      <td>2008.000000</td>\n",
       "    </tr>\n",
       "    <tr>\n",
       "      <th>50%</th>\n",
       "      <td>2011.000000</td>\n",
       "    </tr>\n",
       "    <tr>\n",
       "      <th>75%</th>\n",
       "      <td>2013.000000</td>\n",
       "    </tr>\n",
       "    <tr>\n",
       "      <th>max</th>\n",
       "      <td>2014.000000</td>\n",
       "    </tr>\n",
       "  </tbody>\n",
       "</table>\n",
       "</div>"
      ],
      "text/plain": [
       "              year\n",
       "count  1991.000000\n",
       "mean   2010.038172\n",
       "std       3.057333\n",
       "min    2003.000000\n",
       "25%    2008.000000\n",
       "50%    2011.000000\n",
       "75%    2013.000000\n",
       "max    2014.000000"
      ]
     },
     "execution_count": 5,
     "metadata": {},
     "output_type": "execute_result"
    }
   ],
   "source": [
    "data.describe()"
   ]
  },
  {
   "cell_type": "code",
   "execution_count": 6,
   "id": "f7a96460",
   "metadata": {},
   "outputs": [
    {
     "name": "stdout",
     "output_type": "stream",
     "text": [
      "<class 'pandas.core.frame.DataFrame'>\n",
      "RangeIndex: 1991 entries, 0 to 1990\n",
      "Data columns (total 12 columns):\n",
      " #   Column                            Non-Null Count  Dtype \n",
      "---  ------                            --------------  ----- \n",
      " 0   STATION CODE                      1991 non-null   object\n",
      " 1   LOCATIONS                         1991 non-null   object\n",
      " 2   STATE                             1991 non-null   object\n",
      " 3   Temp                              1991 non-null   object\n",
      " 4   D.O. (mg/l)                       1991 non-null   object\n",
      " 5   PH                                1991 non-null   object\n",
      " 6   CONDUCTIVITY (µmhos/cm)           1991 non-null   object\n",
      " 7   B.O.D. (mg/l)                     1991 non-null   object\n",
      " 8   NITRATENAN N+ NITRITENANN (mg/l)  1991 non-null   object\n",
      " 9   FECAL COLIFORM (MPN/100ml)        1991 non-null   object\n",
      " 10  TOTAL COLIFORM (MPN/100ml)Mean    1991 non-null   object\n",
      " 11  year                              1991 non-null   int64 \n",
      "dtypes: int64(1), object(11)\n",
      "memory usage: 186.8+ KB\n"
     ]
    }
   ],
   "source": [
    "data.info()"
   ]
  },
  {
   "cell_type": "code",
   "execution_count": 7,
   "id": "fa0514af",
   "metadata": {},
   "outputs": [
    {
     "data": {
      "text/plain": [
       "(1991, 12)"
      ]
     },
     "execution_count": 7,
     "metadata": {},
     "output_type": "execute_result"
    }
   ],
   "source": [
    "data.shape"
   ]
  },
  {
   "cell_type": "markdown",
   "id": "6043b135",
   "metadata": {},
   "source": [
    "# Handling Missing Values 1"
   ]
  },
  {
   "cell_type": "code",
   "execution_count": 8,
   "id": "102be024",
   "metadata": {},
   "outputs": [
    {
     "data": {
      "text/plain": [
       "STATION CODE                        False\n",
       "LOCATIONS                           False\n",
       "STATE                               False\n",
       "Temp                                False\n",
       "D.O. (mg/l)                         False\n",
       "PH                                  False\n",
       "CONDUCTIVITY (µmhos/cm)             False\n",
       "B.O.D. (mg/l)                       False\n",
       "NITRATENAN N+ NITRITENANN (mg/l)    False\n",
       "FECAL COLIFORM (MPN/100ml)          False\n",
       "TOTAL COLIFORM (MPN/100ml)Mean      False\n",
       "year                                False\n",
       "dtype: bool"
      ]
     },
     "execution_count": 8,
     "metadata": {},
     "output_type": "execute_result"
    }
   ],
   "source": [
    "data.isnull().any()"
   ]
  },
  {
   "cell_type": "code",
   "execution_count": 9,
   "id": "0cb2aa97",
   "metadata": {},
   "outputs": [
    {
     "data": {
      "text/plain": [
       "STATION CODE                        0\n",
       "LOCATIONS                           0\n",
       "STATE                               0\n",
       "Temp                                0\n",
       "D.O. (mg/l)                         0\n",
       "PH                                  0\n",
       "CONDUCTIVITY (µmhos/cm)             0\n",
       "B.O.D. (mg/l)                       0\n",
       "NITRATENAN N+ NITRITENANN (mg/l)    0\n",
       "FECAL COLIFORM (MPN/100ml)          0\n",
       "TOTAL COLIFORM (MPN/100ml)Mean      0\n",
       "year                                0\n",
       "dtype: int64"
      ]
     },
     "execution_count": 9,
     "metadata": {},
     "output_type": "execute_result"
    }
   ],
   "source": [
    "data.isnull().sum()"
   ]
  },
  {
   "cell_type": "code",
   "execution_count": 10,
   "id": "18b36441",
   "metadata": {},
   "outputs": [
    {
     "data": {
      "text/plain": [
       "STATION CODE                        object\n",
       "LOCATIONS                           object\n",
       "STATE                               object\n",
       "Temp                                object\n",
       "D.O. (mg/l)                         object\n",
       "PH                                  object\n",
       "CONDUCTIVITY (µmhos/cm)             object\n",
       "B.O.D. (mg/l)                       object\n",
       "NITRATENAN N+ NITRITENANN (mg/l)    object\n",
       "FECAL COLIFORM (MPN/100ml)          object\n",
       "TOTAL COLIFORM (MPN/100ml)Mean      object\n",
       "year                                 int64\n",
       "dtype: object"
      ]
     },
     "execution_count": 10,
     "metadata": {},
     "output_type": "execute_result"
    }
   ],
   "source": [
    "data.dtypes"
   ]
  },
  {
   "cell_type": "markdown",
   "id": "f115ab0e",
   "metadata": {},
   "source": [
    "# Handling missing values 2"
   ]
  },
  {
   "cell_type": "code",
   "execution_count": 11,
   "id": "a2361f19",
   "metadata": {},
   "outputs": [
    {
     "data": {
      "text/plain": [
       "STATION CODE                         object\n",
       "LOCATIONS                            object\n",
       "STATE                                object\n",
       "Temp                                float64\n",
       "D.O. (mg/l)                         float64\n",
       "PH                                  float64\n",
       "CONDUCTIVITY (µmhos/cm)             float64\n",
       "B.O.D. (mg/l)                       float64\n",
       "NITRATENAN N+ NITRITENANN (mg/l)    float64\n",
       "FECAL COLIFORM (MPN/100ml)           object\n",
       "TOTAL COLIFORM (MPN/100ml)Mean      float64\n",
       "year                                  int64\n",
       "dtype: object"
      ]
     },
     "execution_count": 11,
     "metadata": {},
     "output_type": "execute_result"
    }
   ],
   "source": [
    "data['Temp']=pd.to_numeric(data['Temp'],errors='coerce')\n",
    "data['D.O. (mg/l)']=pd.to_numeric(data['D.O. (mg/l)'],errors='coerce')\n",
    "data['PH']=pd.to_numeric(data['PH'],errors='coerce')\n",
    "data['B.O.D. (mg/l)']=pd.to_numeric(data['B.O.D. (mg/l)'],errors='coerce')\n",
    "data['CONDUCTIVITY (µmhos/cm)']=pd.to_numeric(data['CONDUCTIVITY (µmhos/cm)'],errors='coerce')\n",
    "data['NITRATENAN N+ NITRITENANN (mg/l)']=pd.to_numeric(data['NITRATENAN N+ NITRITENANN (mg/l)'],errors='coerce')\n",
    "data['TOTAL COLIFORM (MPN/100ml)Mean']=pd.to_numeric(data['TOTAL COLIFORM (MPN/100ml)Mean'],errors='coerce')\n",
    "data.dtypes"
   ]
  },
  {
   "cell_type": "code",
   "execution_count": 12,
   "id": "b48b1908",
   "metadata": {},
   "outputs": [
    {
     "data": {
      "text/plain": [
       "STATION CODE                          0\n",
       "LOCATIONS                             0\n",
       "STATE                                 0\n",
       "Temp                                 92\n",
       "D.O. (mg/l)                          31\n",
       "PH                                    8\n",
       "CONDUCTIVITY (µmhos/cm)              25\n",
       "B.O.D. (mg/l)                        43\n",
       "NITRATENAN N+ NITRITENANN (mg/l)    225\n",
       "FECAL COLIFORM (MPN/100ml)            0\n",
       "TOTAL COLIFORM (MPN/100ml)Mean      132\n",
       "year                                  0\n",
       "dtype: int64"
      ]
     },
     "execution_count": 12,
     "metadata": {},
     "output_type": "execute_result"
    }
   ],
   "source": [
    "data.isnull().sum()"
   ]
  },
  {
   "cell_type": "markdown",
   "id": "6feec2a7",
   "metadata": {},
   "source": [
    "# Handling missing values 3"
   ]
  },
  {
   "cell_type": "code",
   "execution_count": 13,
   "id": "738b35bd",
   "metadata": {},
   "outputs": [],
   "source": [
    "data['Temp'].fillna(data['Temp'].mean(),inplace=True)\n",
    "data['D.O. (mg/l)'].fillna(data['D.O. (mg/l)'].mean(),inplace=True)\n",
    "data['PH'].fillna(data['PH'].mean(),inplace=True)\n",
    "data['CONDUCTIVITY (µmhos/cm)'].fillna(data['CONDUCTIVITY (µmhos/cm)'].mean(),inplace=True)\n",
    "data['B.O.D. (mg/l)'].fillna(data['B.O.D. (mg/l)'].mean(),inplace=True)\n",
    "data['NITRATENAN N+ NITRITENANN (mg/l)'].fillna(data['NITRATENAN N+ NITRITENANN (mg/l)'].mean(),inplace=True)\n",
    "data['TOTAL COLIFORM (MPN/100ml)Mean'].fillna(data['TOTAL COLIFORM (MPN/100ml)Mean'].mean(),inplace=True)"
   ]
  },
  {
   "cell_type": "code",
   "execution_count": 14,
   "id": "c4cd05f2",
   "metadata": {},
   "outputs": [],
   "source": [
    "data.drop([\"FECAL COLIFORM (MPN/100ml)\"],axis=1,inplace=True)"
   ]
  },
  {
   "cell_type": "code",
   "execution_count": 15,
   "id": "24e8aa94",
   "metadata": {},
   "outputs": [],
   "source": [
    "data=data.rename(columns = {'D.O. (mg/l)': 'do'})\n",
    "data=data.rename(columns = {'CONDUCTIVITY (µmhos/cm)': 'co'})\n",
    "data=data.rename(columns = {'B.O.D. (mg/l)': 'bod'})\n",
    "data=data.rename(columns = {'NITRATENAN N+ NITRITENANN (mg/l)': 'na'})\n",
    "data=data.rename(columns = {'TOTAL COLIFORM (MPN/100ml)Mean': 'tc'})\n",
    "data=data.rename(columns = {'STATION CODE': 'station'})\n",
    "data=data.rename(columns = {'LOCATIONS': 'location'})\n",
    "data=data.rename(columns = {'STATE': 'state'})\n",
    "data=data.rename(columns = {'PH': 'ph'})"
   ]
  },
  {
   "cell_type": "markdown",
   "id": "6de9a7f7",
   "metadata": {},
   "source": [
    "# Water Quality Index (WQI) Calculation-1"
   ]
  },
  {
   "cell_type": "code",
   "execution_count": 16,
   "id": "51fa5888",
   "metadata": {},
   "outputs": [],
   "source": [
    "#calculation of pH\n",
    "data['npH']=data.ph.apply(lambda x: (100 if(8.5>=x>=7)\n",
    "                                else(80 if(8.6>=x>=8.5) or (6.9>=x>=6.8)\n",
    "                                  else (60 if(8.8>=x>=8.6) or (6.8>=x>=6.7)\n",
    "                                      else(40 if(9>=x>=8.8) or (6.7>=x>=6.5)\n",
    "                                          else 0)))))"
   ]
  },
  {
   "cell_type": "code",
   "execution_count": 17,
   "id": "8258d675",
   "metadata": {},
   "outputs": [],
   "source": [
    "#calculation of dissolved oxygen\n",
    "data['ndo']=data.do.apply(lambda x: (100 if(x>=6)\n",
    "                                else(80 if(6>=x>=5.1)\n",
    "                                  else (60 if(5>=x>=4.1)\n",
    "                                      else(40 if(4>=x>=3)\n",
    "                                          else 0)))))"
   ]
  },
  {
   "cell_type": "markdown",
   "id": "fe4bbc08",
   "metadata": {},
   "source": [
    "# Water Quality Index (WQI) Calculation-2"
   ]
  },
  {
   "cell_type": "code",
   "execution_count": 18,
   "id": "aaf067a3",
   "metadata": {},
   "outputs": [],
   "source": [
    "#calculation of total coliform\n",
    "data['nco']=data.tc.apply(lambda x: (100 if(5>=x>=0)\n",
    "                                else(80 if(50>=x>=5)\n",
    "                                  else (60 if(500>=x>=50)\n",
    "                                      else(40 if(10000>=x>=500)\n",
    "                                          else 0)))))"
   ]
  },
  {
   "cell_type": "code",
   "execution_count": 19,
   "id": "80abca90",
   "metadata": {},
   "outputs": [],
   "source": [
    "#calculation of B.D.O\n",
    "data['nbdo']=data.bod.apply(lambda x:(100 if(3>=x>=0)\n",
    "                                else(80 if(6>=x>=3)\n",
    "                                  else (60 if(80>=x>=6)\n",
    "                                      else(40 if(125>=x>=80)\n",
    "                                          else 0)))))"
   ]
  },
  {
   "cell_type": "markdown",
   "id": "1a6e4b29",
   "metadata": {},
   "source": [
    "# Water Quality Index (WQI) Calculation-3"
   ]
  },
  {
   "cell_type": "code",
   "execution_count": 20,
   "id": "ac4f6144",
   "metadata": {},
   "outputs": [],
   "source": [
    "#calculation of electric conductivity\n",
    "data['nec']=data.co.apply(lambda x:(100 if(75>=x>=0)\n",
    "                                else(80 if(150>=x>=75)\n",
    "                                  else (60 if(225>=x>=150)\n",
    "                                      else(40 if(300>=x>=225)\n",
    "                                          else 0)))))"
   ]
  },
  {
   "cell_type": "code",
   "execution_count": 21,
   "id": "acb9bbe6",
   "metadata": {},
   "outputs": [],
   "source": [
    "#calculation of nitrate\n",
    "data['nna']=data.na.apply(lambda x:(100 if(20>=x>=0)\n",
    "                                else(80 if(50>=x>=20)\n",
    "                                  else (60 if(100>=x>=50)\n",
    "                                      else(40 if(200>=x>=100)\n",
    "                                          else 0)))))"
   ]
  },
  {
   "cell_type": "code",
   "execution_count": 22,
   "id": "3f7121d1",
   "metadata": {},
   "outputs": [
    {
     "data": {
      "text/html": [
       "<div>\n",
       "<style scoped>\n",
       "    .dataframe tbody tr th:only-of-type {\n",
       "        vertical-align: middle;\n",
       "    }\n",
       "\n",
       "    .dataframe tbody tr th {\n",
       "        vertical-align: top;\n",
       "    }\n",
       "\n",
       "    .dataframe thead th {\n",
       "        text-align: right;\n",
       "    }\n",
       "</style>\n",
       "<table border=\"1\" class=\"dataframe\">\n",
       "  <thead>\n",
       "    <tr style=\"text-align: right;\">\n",
       "      <th></th>\n",
       "      <th>station</th>\n",
       "      <th>location</th>\n",
       "      <th>state</th>\n",
       "      <th>Temp</th>\n",
       "      <th>do</th>\n",
       "      <th>ph</th>\n",
       "      <th>co</th>\n",
       "      <th>bod</th>\n",
       "      <th>na</th>\n",
       "      <th>tc</th>\n",
       "      <th>...</th>\n",
       "      <th>nbdo</th>\n",
       "      <th>nec</th>\n",
       "      <th>nna</th>\n",
       "      <th>wph</th>\n",
       "      <th>wdo</th>\n",
       "      <th>wbdo</th>\n",
       "      <th>wec</th>\n",
       "      <th>wna</th>\n",
       "      <th>wco</th>\n",
       "      <th>wqi</th>\n",
       "    </tr>\n",
       "  </thead>\n",
       "  <tbody>\n",
       "    <tr>\n",
       "      <th>0</th>\n",
       "      <td>1393</td>\n",
       "      <td>DAMANGANGA AT D/S OF MADHUBAN, DAMAN</td>\n",
       "      <td>DAMAN &amp; DIU</td>\n",
       "      <td>30.600000</td>\n",
       "      <td>6.7</td>\n",
       "      <td>7.5</td>\n",
       "      <td>203.0</td>\n",
       "      <td>6.940049</td>\n",
       "      <td>0.100000</td>\n",
       "      <td>27.0</td>\n",
       "      <td>...</td>\n",
       "      <td>60</td>\n",
       "      <td>60</td>\n",
       "      <td>100</td>\n",
       "      <td>16.5</td>\n",
       "      <td>28.10</td>\n",
       "      <td>14.04</td>\n",
       "      <td>0.54</td>\n",
       "      <td>2.8</td>\n",
       "      <td>22.48</td>\n",
       "      <td>84.46</td>\n",
       "    </tr>\n",
       "    <tr>\n",
       "      <th>1</th>\n",
       "      <td>1399</td>\n",
       "      <td>ZUARI AT D/S OF PT. WHERE KUMBARJRIA CANAL JOI...</td>\n",
       "      <td>GOA</td>\n",
       "      <td>29.800000</td>\n",
       "      <td>5.7</td>\n",
       "      <td>7.2</td>\n",
       "      <td>189.0</td>\n",
       "      <td>2.000000</td>\n",
       "      <td>0.200000</td>\n",
       "      <td>8391.0</td>\n",
       "      <td>...</td>\n",
       "      <td>100</td>\n",
       "      <td>60</td>\n",
       "      <td>100</td>\n",
       "      <td>16.5</td>\n",
       "      <td>22.48</td>\n",
       "      <td>23.40</td>\n",
       "      <td>0.54</td>\n",
       "      <td>2.8</td>\n",
       "      <td>11.24</td>\n",
       "      <td>76.96</td>\n",
       "    </tr>\n",
       "    <tr>\n",
       "      <th>2</th>\n",
       "      <td>1475</td>\n",
       "      <td>ZUARI AT PANCHAWADI</td>\n",
       "      <td>GOA</td>\n",
       "      <td>29.500000</td>\n",
       "      <td>6.3</td>\n",
       "      <td>6.9</td>\n",
       "      <td>179.0</td>\n",
       "      <td>1.700000</td>\n",
       "      <td>0.100000</td>\n",
       "      <td>5330.0</td>\n",
       "      <td>...</td>\n",
       "      <td>100</td>\n",
       "      <td>60</td>\n",
       "      <td>100</td>\n",
       "      <td>13.2</td>\n",
       "      <td>28.10</td>\n",
       "      <td>23.40</td>\n",
       "      <td>0.54</td>\n",
       "      <td>2.8</td>\n",
       "      <td>11.24</td>\n",
       "      <td>79.28</td>\n",
       "    </tr>\n",
       "    <tr>\n",
       "      <th>3</th>\n",
       "      <td>3181</td>\n",
       "      <td>RIVER ZUARI AT BORIM BRIDGE</td>\n",
       "      <td>GOA</td>\n",
       "      <td>29.700000</td>\n",
       "      <td>5.8</td>\n",
       "      <td>6.9</td>\n",
       "      <td>64.0</td>\n",
       "      <td>3.800000</td>\n",
       "      <td>0.500000</td>\n",
       "      <td>8443.0</td>\n",
       "      <td>...</td>\n",
       "      <td>80</td>\n",
       "      <td>100</td>\n",
       "      <td>100</td>\n",
       "      <td>13.2</td>\n",
       "      <td>22.48</td>\n",
       "      <td>18.72</td>\n",
       "      <td>0.90</td>\n",
       "      <td>2.8</td>\n",
       "      <td>11.24</td>\n",
       "      <td>69.34</td>\n",
       "    </tr>\n",
       "    <tr>\n",
       "      <th>4</th>\n",
       "      <td>3182</td>\n",
       "      <td>RIVER ZUARI AT MARCAIM JETTY</td>\n",
       "      <td>GOA</td>\n",
       "      <td>29.500000</td>\n",
       "      <td>5.8</td>\n",
       "      <td>7.3</td>\n",
       "      <td>83.0</td>\n",
       "      <td>1.900000</td>\n",
       "      <td>0.400000</td>\n",
       "      <td>5500.0</td>\n",
       "      <td>...</td>\n",
       "      <td>100</td>\n",
       "      <td>80</td>\n",
       "      <td>100</td>\n",
       "      <td>16.5</td>\n",
       "      <td>22.48</td>\n",
       "      <td>23.40</td>\n",
       "      <td>0.72</td>\n",
       "      <td>2.8</td>\n",
       "      <td>11.24</td>\n",
       "      <td>77.14</td>\n",
       "    </tr>\n",
       "    <tr>\n",
       "      <th>...</th>\n",
       "      <td>...</td>\n",
       "      <td>...</td>\n",
       "      <td>...</td>\n",
       "      <td>...</td>\n",
       "      <td>...</td>\n",
       "      <td>...</td>\n",
       "      <td>...</td>\n",
       "      <td>...</td>\n",
       "      <td>...</td>\n",
       "      <td>...</td>\n",
       "      <td>...</td>\n",
       "      <td>...</td>\n",
       "      <td>...</td>\n",
       "      <td>...</td>\n",
       "      <td>...</td>\n",
       "      <td>...</td>\n",
       "      <td>...</td>\n",
       "      <td>...</td>\n",
       "      <td>...</td>\n",
       "      <td>...</td>\n",
       "      <td>...</td>\n",
       "    </tr>\n",
       "    <tr>\n",
       "      <th>1986</th>\n",
       "      <td>1330</td>\n",
       "      <td>TAMBIRAPARANI AT ARUMUGANERI, TAMILNADU</td>\n",
       "      <td>NAN</td>\n",
       "      <td>26.209814</td>\n",
       "      <td>7.9</td>\n",
       "      <td>738.0</td>\n",
       "      <td>7.2</td>\n",
       "      <td>2.700000</td>\n",
       "      <td>0.518000</td>\n",
       "      <td>202.0</td>\n",
       "      <td>...</td>\n",
       "      <td>100</td>\n",
       "      <td>100</td>\n",
       "      <td>100</td>\n",
       "      <td>0.0</td>\n",
       "      <td>28.10</td>\n",
       "      <td>23.40</td>\n",
       "      <td>0.90</td>\n",
       "      <td>2.8</td>\n",
       "      <td>16.86</td>\n",
       "      <td>72.06</td>\n",
       "    </tr>\n",
       "    <tr>\n",
       "      <th>1987</th>\n",
       "      <td>1450</td>\n",
       "      <td>PALAR AT VANIYAMBADI WATER SUPPLY HEAD WORK, T...</td>\n",
       "      <td>NAN</td>\n",
       "      <td>29.000000</td>\n",
       "      <td>7.5</td>\n",
       "      <td>585.0</td>\n",
       "      <td>6.3</td>\n",
       "      <td>2.600000</td>\n",
       "      <td>0.155000</td>\n",
       "      <td>315.0</td>\n",
       "      <td>...</td>\n",
       "      <td>100</td>\n",
       "      <td>100</td>\n",
       "      <td>100</td>\n",
       "      <td>0.0</td>\n",
       "      <td>28.10</td>\n",
       "      <td>23.40</td>\n",
       "      <td>0.90</td>\n",
       "      <td>2.8</td>\n",
       "      <td>16.86</td>\n",
       "      <td>72.06</td>\n",
       "    </tr>\n",
       "    <tr>\n",
       "      <th>1988</th>\n",
       "      <td>1403</td>\n",
       "      <td>GUMTI AT U/S SOUTH TRIPURA,TRIPURA</td>\n",
       "      <td>NAN</td>\n",
       "      <td>28.000000</td>\n",
       "      <td>7.6</td>\n",
       "      <td>98.0</td>\n",
       "      <td>6.2</td>\n",
       "      <td>1.200000</td>\n",
       "      <td>1.623079</td>\n",
       "      <td>570.0</td>\n",
       "      <td>...</td>\n",
       "      <td>100</td>\n",
       "      <td>100</td>\n",
       "      <td>100</td>\n",
       "      <td>0.0</td>\n",
       "      <td>28.10</td>\n",
       "      <td>23.40</td>\n",
       "      <td>0.90</td>\n",
       "      <td>2.8</td>\n",
       "      <td>11.24</td>\n",
       "      <td>66.44</td>\n",
       "    </tr>\n",
       "    <tr>\n",
       "      <th>1989</th>\n",
       "      <td>1404</td>\n",
       "      <td>GUMTI AT D/S SOUTH TRIPURA, TRIPURA</td>\n",
       "      <td>NAN</td>\n",
       "      <td>28.000000</td>\n",
       "      <td>7.7</td>\n",
       "      <td>91.0</td>\n",
       "      <td>6.5</td>\n",
       "      <td>1.300000</td>\n",
       "      <td>1.623079</td>\n",
       "      <td>562.0</td>\n",
       "      <td>...</td>\n",
       "      <td>100</td>\n",
       "      <td>100</td>\n",
       "      <td>100</td>\n",
       "      <td>0.0</td>\n",
       "      <td>28.10</td>\n",
       "      <td>23.40</td>\n",
       "      <td>0.90</td>\n",
       "      <td>2.8</td>\n",
       "      <td>11.24</td>\n",
       "      <td>66.44</td>\n",
       "    </tr>\n",
       "    <tr>\n",
       "      <th>1990</th>\n",
       "      <td>1726</td>\n",
       "      <td>CHANDRAPUR, AGARTALA D/S OF HAORA RIVER, TRIPURA</td>\n",
       "      <td>NAN</td>\n",
       "      <td>29.000000</td>\n",
       "      <td>7.6</td>\n",
       "      <td>110.0</td>\n",
       "      <td>5.7</td>\n",
       "      <td>1.100000</td>\n",
       "      <td>1.623079</td>\n",
       "      <td>546.0</td>\n",
       "      <td>...</td>\n",
       "      <td>100</td>\n",
       "      <td>100</td>\n",
       "      <td>100</td>\n",
       "      <td>0.0</td>\n",
       "      <td>28.10</td>\n",
       "      <td>23.40</td>\n",
       "      <td>0.90</td>\n",
       "      <td>2.8</td>\n",
       "      <td>11.24</td>\n",
       "      <td>66.44</td>\n",
       "    </tr>\n",
       "  </tbody>\n",
       "</table>\n",
       "<p>1991 rows × 24 columns</p>\n",
       "</div>"
      ],
      "text/plain": [
       "     station                                           location        state  \\\n",
       "0       1393               DAMANGANGA AT D/S OF MADHUBAN, DAMAN  DAMAN & DIU   \n",
       "1       1399  ZUARI AT D/S OF PT. WHERE KUMBARJRIA CANAL JOI...          GOA   \n",
       "2       1475                                ZUARI AT PANCHAWADI          GOA   \n",
       "3       3181                        RIVER ZUARI AT BORIM BRIDGE          GOA   \n",
       "4       3182                       RIVER ZUARI AT MARCAIM JETTY          GOA   \n",
       "...      ...                                                ...          ...   \n",
       "1986    1330            TAMBIRAPARANI AT ARUMUGANERI, TAMILNADU          NAN   \n",
       "1987    1450  PALAR AT VANIYAMBADI WATER SUPPLY HEAD WORK, T...          NAN   \n",
       "1988    1403                 GUMTI AT U/S SOUTH TRIPURA,TRIPURA          NAN   \n",
       "1989    1404                GUMTI AT D/S SOUTH TRIPURA, TRIPURA          NAN   \n",
       "1990    1726   CHANDRAPUR, AGARTALA D/S OF HAORA RIVER, TRIPURA          NAN   \n",
       "\n",
       "           Temp   do     ph     co       bod        na      tc  ...  nbdo  \\\n",
       "0     30.600000  6.7    7.5  203.0  6.940049  0.100000    27.0  ...    60   \n",
       "1     29.800000  5.7    7.2  189.0  2.000000  0.200000  8391.0  ...   100   \n",
       "2     29.500000  6.3    6.9  179.0  1.700000  0.100000  5330.0  ...   100   \n",
       "3     29.700000  5.8    6.9   64.0  3.800000  0.500000  8443.0  ...    80   \n",
       "4     29.500000  5.8    7.3   83.0  1.900000  0.400000  5500.0  ...   100   \n",
       "...         ...  ...    ...    ...       ...       ...     ...  ...   ...   \n",
       "1986  26.209814  7.9  738.0    7.2  2.700000  0.518000   202.0  ...   100   \n",
       "1987  29.000000  7.5  585.0    6.3  2.600000  0.155000   315.0  ...   100   \n",
       "1988  28.000000  7.6   98.0    6.2  1.200000  1.623079   570.0  ...   100   \n",
       "1989  28.000000  7.7   91.0    6.5  1.300000  1.623079   562.0  ...   100   \n",
       "1990  29.000000  7.6  110.0    5.7  1.100000  1.623079   546.0  ...   100   \n",
       "\n",
       "      nec  nna   wph    wdo   wbdo   wec  wna    wco    wqi  \n",
       "0      60  100  16.5  28.10  14.04  0.54  2.8  22.48  84.46  \n",
       "1      60  100  16.5  22.48  23.40  0.54  2.8  11.24  76.96  \n",
       "2      60  100  13.2  28.10  23.40  0.54  2.8  11.24  79.28  \n",
       "3     100  100  13.2  22.48  18.72  0.90  2.8  11.24  69.34  \n",
       "4      80  100  16.5  22.48  23.40  0.72  2.8  11.24  77.14  \n",
       "...   ...  ...   ...    ...    ...   ...  ...    ...    ...  \n",
       "1986  100  100   0.0  28.10  23.40  0.90  2.8  16.86  72.06  \n",
       "1987  100  100   0.0  28.10  23.40  0.90  2.8  16.86  72.06  \n",
       "1988  100  100   0.0  28.10  23.40  0.90  2.8  11.24  66.44  \n",
       "1989  100  100   0.0  28.10  23.40  0.90  2.8  11.24  66.44  \n",
       "1990  100  100   0.0  28.10  23.40  0.90  2.8  11.24  66.44  \n",
       "\n",
       "[1991 rows x 24 columns]"
      ]
     },
     "execution_count": 22,
     "metadata": {},
     "output_type": "execute_result"
    }
   ],
   "source": [
    "#Calculation of Water Quality Index WQI\n",
    "data['wph']=data.npH*0.165\n",
    "data['wdo']=data.ndo*0.281\n",
    "data['wbdo']=data.nbdo*0.234\n",
    "data['wec']=data.nec*0.009\n",
    "data['wna']=data.nna*0.028\n",
    "data['wco']=data.nco*0.281\n",
    "data['wqi']=data.wph+data.wdo+data.wbdo+data.wec+data.wna+data.wco\n",
    "data"
   ]
  },
  {
   "cell_type": "code",
   "execution_count": 23,
   "id": "1ea7e496",
   "metadata": {},
   "outputs": [
    {
     "data": {
      "text/plain": [
       "year\n",
       "2003    66.239545\n",
       "2004    61.290000\n",
       "2005    73.762689\n",
       "2006    72.909714\n",
       "2007    74.233000\n",
       "Name: wqi, dtype: float64"
      ]
     },
     "execution_count": 23,
     "metadata": {},
     "output_type": "execute_result"
    }
   ],
   "source": [
    "#Calculation of overall WQI for each year\n",
    "average = data.groupby('year')['wqi'].mean()\n",
    "average.head()"
   ]
  },
  {
   "cell_type": "markdown",
   "id": "6708c7e8",
   "metadata": {},
   "source": [
    "# Splitting Dependent and Independent Columns"
   ]
  },
  {
   "cell_type": "code",
   "execution_count": 24,
   "id": "13f0822e",
   "metadata": {},
   "outputs": [],
   "source": [
    "data.head()\n",
    "data.drop(['location','station','state'],axis =1,inplace=True)"
   ]
  },
  {
   "cell_type": "code",
   "execution_count": 25,
   "id": "c44df0bd",
   "metadata": {},
   "outputs": [
    {
     "data": {
      "text/html": [
       "<div>\n",
       "<style scoped>\n",
       "    .dataframe tbody tr th:only-of-type {\n",
       "        vertical-align: middle;\n",
       "    }\n",
       "\n",
       "    .dataframe tbody tr th {\n",
       "        vertical-align: top;\n",
       "    }\n",
       "\n",
       "    .dataframe thead th {\n",
       "        text-align: right;\n",
       "    }\n",
       "</style>\n",
       "<table border=\"1\" class=\"dataframe\">\n",
       "  <thead>\n",
       "    <tr style=\"text-align: right;\">\n",
       "      <th></th>\n",
       "      <th>Temp</th>\n",
       "      <th>do</th>\n",
       "      <th>ph</th>\n",
       "      <th>co</th>\n",
       "      <th>bod</th>\n",
       "      <th>na</th>\n",
       "      <th>tc</th>\n",
       "      <th>year</th>\n",
       "      <th>npH</th>\n",
       "      <th>ndo</th>\n",
       "      <th>...</th>\n",
       "      <th>nbdo</th>\n",
       "      <th>nec</th>\n",
       "      <th>nna</th>\n",
       "      <th>wph</th>\n",
       "      <th>wdo</th>\n",
       "      <th>wbdo</th>\n",
       "      <th>wec</th>\n",
       "      <th>wna</th>\n",
       "      <th>wco</th>\n",
       "      <th>wqi</th>\n",
       "    </tr>\n",
       "  </thead>\n",
       "  <tbody>\n",
       "    <tr>\n",
       "      <th>0</th>\n",
       "      <td>30.6</td>\n",
       "      <td>6.7</td>\n",
       "      <td>7.5</td>\n",
       "      <td>203.0</td>\n",
       "      <td>6.940049</td>\n",
       "      <td>0.1</td>\n",
       "      <td>27.0</td>\n",
       "      <td>2014</td>\n",
       "      <td>100</td>\n",
       "      <td>100</td>\n",
       "      <td>...</td>\n",
       "      <td>60</td>\n",
       "      <td>60</td>\n",
       "      <td>100</td>\n",
       "      <td>16.5</td>\n",
       "      <td>28.10</td>\n",
       "      <td>14.04</td>\n",
       "      <td>0.54</td>\n",
       "      <td>2.8</td>\n",
       "      <td>22.48</td>\n",
       "      <td>84.46</td>\n",
       "    </tr>\n",
       "    <tr>\n",
       "      <th>1</th>\n",
       "      <td>29.8</td>\n",
       "      <td>5.7</td>\n",
       "      <td>7.2</td>\n",
       "      <td>189.0</td>\n",
       "      <td>2.000000</td>\n",
       "      <td>0.2</td>\n",
       "      <td>8391.0</td>\n",
       "      <td>2014</td>\n",
       "      <td>100</td>\n",
       "      <td>80</td>\n",
       "      <td>...</td>\n",
       "      <td>100</td>\n",
       "      <td>60</td>\n",
       "      <td>100</td>\n",
       "      <td>16.5</td>\n",
       "      <td>22.48</td>\n",
       "      <td>23.40</td>\n",
       "      <td>0.54</td>\n",
       "      <td>2.8</td>\n",
       "      <td>11.24</td>\n",
       "      <td>76.96</td>\n",
       "    </tr>\n",
       "    <tr>\n",
       "      <th>2</th>\n",
       "      <td>29.5</td>\n",
       "      <td>6.3</td>\n",
       "      <td>6.9</td>\n",
       "      <td>179.0</td>\n",
       "      <td>1.700000</td>\n",
       "      <td>0.1</td>\n",
       "      <td>5330.0</td>\n",
       "      <td>2014</td>\n",
       "      <td>80</td>\n",
       "      <td>100</td>\n",
       "      <td>...</td>\n",
       "      <td>100</td>\n",
       "      <td>60</td>\n",
       "      <td>100</td>\n",
       "      <td>13.2</td>\n",
       "      <td>28.10</td>\n",
       "      <td>23.40</td>\n",
       "      <td>0.54</td>\n",
       "      <td>2.8</td>\n",
       "      <td>11.24</td>\n",
       "      <td>79.28</td>\n",
       "    </tr>\n",
       "    <tr>\n",
       "      <th>3</th>\n",
       "      <td>29.7</td>\n",
       "      <td>5.8</td>\n",
       "      <td>6.9</td>\n",
       "      <td>64.0</td>\n",
       "      <td>3.800000</td>\n",
       "      <td>0.5</td>\n",
       "      <td>8443.0</td>\n",
       "      <td>2014</td>\n",
       "      <td>80</td>\n",
       "      <td>80</td>\n",
       "      <td>...</td>\n",
       "      <td>80</td>\n",
       "      <td>100</td>\n",
       "      <td>100</td>\n",
       "      <td>13.2</td>\n",
       "      <td>22.48</td>\n",
       "      <td>18.72</td>\n",
       "      <td>0.90</td>\n",
       "      <td>2.8</td>\n",
       "      <td>11.24</td>\n",
       "      <td>69.34</td>\n",
       "    </tr>\n",
       "    <tr>\n",
       "      <th>4</th>\n",
       "      <td>29.5</td>\n",
       "      <td>5.8</td>\n",
       "      <td>7.3</td>\n",
       "      <td>83.0</td>\n",
       "      <td>1.900000</td>\n",
       "      <td>0.4</td>\n",
       "      <td>5500.0</td>\n",
       "      <td>2014</td>\n",
       "      <td>100</td>\n",
       "      <td>80</td>\n",
       "      <td>...</td>\n",
       "      <td>100</td>\n",
       "      <td>80</td>\n",
       "      <td>100</td>\n",
       "      <td>16.5</td>\n",
       "      <td>22.48</td>\n",
       "      <td>23.40</td>\n",
       "      <td>0.72</td>\n",
       "      <td>2.8</td>\n",
       "      <td>11.24</td>\n",
       "      <td>77.14</td>\n",
       "    </tr>\n",
       "  </tbody>\n",
       "</table>\n",
       "<p>5 rows × 21 columns</p>\n",
       "</div>"
      ],
      "text/plain": [
       "   Temp   do   ph     co       bod   na      tc  year  npH  ndo  ...  nbdo  \\\n",
       "0  30.6  6.7  7.5  203.0  6.940049  0.1    27.0  2014  100  100  ...    60   \n",
       "1  29.8  5.7  7.2  189.0  2.000000  0.2  8391.0  2014  100   80  ...   100   \n",
       "2  29.5  6.3  6.9  179.0  1.700000  0.1  5330.0  2014   80  100  ...   100   \n",
       "3  29.7  5.8  6.9   64.0  3.800000  0.5  8443.0  2014   80   80  ...    80   \n",
       "4  29.5  5.8  7.3   83.0  1.900000  0.4  5500.0  2014  100   80  ...   100   \n",
       "\n",
       "   nec  nna   wph    wdo   wbdo   wec  wna    wco    wqi  \n",
       "0   60  100  16.5  28.10  14.04  0.54  2.8  22.48  84.46  \n",
       "1   60  100  16.5  22.48  23.40  0.54  2.8  11.24  76.96  \n",
       "2   60  100  13.2  28.10  23.40  0.54  2.8  11.24  79.28  \n",
       "3  100  100  13.2  22.48  18.72  0.90  2.8  11.24  69.34  \n",
       "4   80  100  16.5  22.48  23.40  0.72  2.8  11.24  77.14  \n",
       "\n",
       "[5 rows x 21 columns]"
      ]
     },
     "execution_count": 25,
     "metadata": {},
     "output_type": "execute_result"
    }
   ],
   "source": [
    "data.head()"
   ]
  },
  {
   "cell_type": "code",
   "execution_count": 26,
   "id": "e2bb7d52",
   "metadata": {},
   "outputs": [],
   "source": [
    "x=data.iloc[:,1:7].values"
   ]
  },
  {
   "cell_type": "code",
   "execution_count": 27,
   "id": "d297d315",
   "metadata": {},
   "outputs": [
    {
     "data": {
      "text/plain": [
       "(1991, 6)"
      ]
     },
     "execution_count": 27,
     "metadata": {},
     "output_type": "execute_result"
    }
   ],
   "source": [
    "x.shape"
   ]
  },
  {
   "cell_type": "code",
   "execution_count": 28,
   "id": "976c1005",
   "metadata": {},
   "outputs": [
    {
     "data": {
      "text/plain": [
       "(1991, 1)"
      ]
     },
     "execution_count": 28,
     "metadata": {},
     "output_type": "execute_result"
    }
   ],
   "source": [
    "y=data.iloc[:,-1:].values\n",
    "y.shape"
   ]
  },
  {
   "cell_type": "code",
   "execution_count": 29,
   "id": "9b00e2b4",
   "metadata": {},
   "outputs": [
    {
     "name": "stdout",
     "output_type": "stream",
     "text": [
      "[[6.70000000e+00 7.50000000e+00 2.03000000e+02 6.94004877e+00\n",
      "  1.00000000e-01 2.70000000e+01]\n",
      " [5.70000000e+00 7.20000000e+00 1.89000000e+02 2.00000000e+00\n",
      "  2.00000000e-01 8.39100000e+03]\n",
      " [6.30000000e+00 6.90000000e+00 1.79000000e+02 1.70000000e+00\n",
      "  1.00000000e-01 5.33000000e+03]\n",
      " ...\n",
      " [7.60000000e+00 9.80000000e+01 6.20000000e+00 1.20000000e+00\n",
      "  1.62307871e+00 5.70000000e+02]\n",
      " [7.70000000e+00 9.10000000e+01 6.50000000e+00 1.30000000e+00\n",
      "  1.62307871e+00 5.62000000e+02]\n",
      " [7.60000000e+00 1.10000000e+02 5.70000000e+00 1.10000000e+00\n",
      "  1.62307871e+00 5.46000000e+02]]\n"
     ]
    }
   ],
   "source": [
    "print(x)"
   ]
  },
  {
   "cell_type": "code",
   "execution_count": 30,
   "id": "d2ff2192",
   "metadata": {},
   "outputs": [
    {
     "name": "stdout",
     "output_type": "stream",
     "text": [
      "[[84.46]\n",
      " [76.96]\n",
      " [79.28]\n",
      " ...\n",
      " [66.44]\n",
      " [66.44]\n",
      " [66.44]]\n"
     ]
    }
   ],
   "source": [
    "print(y)"
   ]
  },
  {
   "cell_type": "markdown",
   "id": "06315205",
   "metadata": {},
   "source": [
    "# Data Visualization"
   ]
  },
  {
   "cell_type": "code",
   "execution_count": 31,
   "id": "d599e58a",
   "metadata": {},
   "outputs": [],
   "source": [
    "import seaborn as sns"
   ]
  },
  {
   "cell_type": "code",
   "execution_count": 32,
   "id": "4078b8fe",
   "metadata": {},
   "outputs": [
    {
     "data": {
      "text/plain": [
       "<AxesSubplot:>"
      ]
     },
     "execution_count": 32,
     "metadata": {},
     "output_type": "execute_result"
    },
    {
     "data": {
      "image/png": "[encoded data removed]",
      "text/plain": [
       "<Figure size 640x480 with 1 Axes>"
      ]
     },
     "metadata": {},
     "output_type": "display_data"
    }
   ],
   "source": [
    "sns.boxplot(data[\"ph\"])"
   ]
  },
  {
   "cell_type": "code",
   "execution_count": 33,
   "id": "aa3fcfe6",
   "metadata": {},
   "outputs": [
    {
     "data": {
      "text/plain": [
       "<AxesSubplot:>"
      ]
     },
     "execution_count": 33,
     "metadata": {},
     "output_type": "execute_result"
    },
    {
     "data": {
      "image/png": "[encoded data removed]",
      "text/plain": [
       "<Figure size 640x480 with 1 Axes>"
      ]
     },
     "metadata": {},
     "output_type": "display_data"
    }
   ],
   "source": [
    "sns.boxplot(data[\"do\"])"
   ]
  },
  {
   "cell_type": "code",
   "execution_count": 34,
   "id": "c22fc005",
   "metadata": {},
   "outputs": [
    {
     "data": {
      "text/plain": [
       "<AxesSubplot:>"
      ]
     },
     "execution_count": 34,
     "metadata": {},
     "output_type": "execute_result"
    },
    {
     "data": {
      "image/png": "[encoded data removed]",
      "text/plain": [
       "<Figure size 640x480 with 1 Axes>"
      ]
     },
     "metadata": {},
     "output_type": "display_data"
    }
   ],
   "source": [
    "sns.boxplot(data[\"year\"])"
   ]
  },
  {
   "cell_type": "code",
   "execution_count": 35,
   "id": "2b0e2ea1",
   "metadata": {},
   "outputs": [
    {
     "data": {
      "image/png": "[encoded data removed]",
      "text/plain": [
       "<Figure size 1400x1400 with 25 Axes>"
      ]
     },
     "metadata": {},
     "output_type": "display_data"
    }
   ],
   "source": [
    "data.hist(figsize=(14,14))\n",
    "plt.show()"
   ]
  },
  {
   "cell_type": "markdown",
   "id": "a031d4ef",
   "metadata": {},
   "source": [
    "# Splitting the Data Into Train and Test"
   ]
  },
  {
   "cell_type": "code",
   "execution_count": 36,
   "id": "ecb109d7",
   "metadata": {},
   "outputs": [],
   "source": [
    "from sklearn.model_selection import train_test_split\n",
    "x_train,x_test,y_train,y_test = train_test_split(x,y,test_size = 0.2,random_state=10)"
   ]
  },
  {
   "cell_type": "markdown",
   "id": "d08fc9b6",
   "metadata": {},
   "source": [
    "# Random_Forest_Regression"
   ]
  },
  {
   "cell_type": "code",
   "execution_count": 37,
   "id": "fcbff4fa",
   "metadata": {},
   "outputs": [],
   "source": [
    "from sklearn.ensemble import RandomForestRegressor\n",
    "regressor = RandomForestRegressor(n_estimators = 10, random_state = 0)\n",
    "regressor.fit(x_train, y_train)\n",
    "y_pred = regressor.predict(x_test)"
   ]
  },
  {
   "cell_type": "markdown",
   "id": "0b07deae",
   "metadata": {},
   "source": [
    "# Model Evaluation"
   ]
  },
  {
   "cell_type": "code",
   "execution_count": 38,
   "id": "9372adb7",
   "metadata": {},
   "outputs": [
    {
     "name": "stdout",
     "output_type": "stream",
     "text": [
      "MAE: 0.9469473684210586\n",
      "MSE: 5.005409984962409\n",
      "RMSE: 2.2372773598645317\n"
     ]
    }
   ],
   "source": [
    "from sklearn import metrics\n",
    "print('MAE:',metrics.mean_absolute_error(y_test,y_pred))\n",
    "print('MSE:',metrics.mean_squared_error(y_test,y_pred))\n",
    "print('RMSE:',np.sqrt(metrics.mean_squared_error(y_test,y_pred)))"
   ]
  },
  {
   "cell_type": "code",
   "execution_count": 39,
   "id": "56437a4d",
   "metadata": {},
   "outputs": [
    {
     "data": {
      "text/plain": [
       "0.9727155181897961"
      ]
     },
     "execution_count": 39,
     "metadata": {},
     "output_type": "execute_result"
    }
   ],
   "source": [
    "#accuracy of the model\n",
    "metrics.r2_score(y_test, y_pred)"
   ]
  },
  {
   "cell_type": "markdown",
   "id": "9c0219b6",
   "metadata": {},
   "source": [
    "# Save the model"
   ]
  },
  {
   "cell_type": "code",
   "execution_count": 40,
   "id": "9b724282",
   "metadata": {},
   "outputs": [],
   "source": [
    "import pickle\n",
    "pickle.dump(regressor,open('wqi.pkl','wb'))\n",
    "model=pickle.load(open('wqi.pkl','rb'))"
   ]
  }
 ],
 "metadata": {
  "kernelspec": {
   "display_name": "Python 3 (ipykernel)",
   "language": "python",
   "name": "python3"
  },
  "language_info": {
   "codemirror_mode": {
    "name": "ipython",
    "version": 3
   },
   "file_extension": ".py",
   "mimetype": "text/x-python",
   "name": "python",
   "nbconvert_exporter": "python",
   "pygments_lexer": "ipython3",
   "version": "3.10.4"
  }
 },
 "nbformat": 4,
 "nbformat_minor": 5
}
